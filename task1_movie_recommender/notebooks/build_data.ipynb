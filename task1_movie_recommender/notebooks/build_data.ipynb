{
 "cells": [
  {
   "cell_type": "code",
   "execution_count": 1,
   "id": "01fb283e-a030-41ff-8e40-78acaac5b788",
   "metadata": {},
   "outputs": [],
   "source": [
    "import pandas as pd\n",
    "import numpy as np\n",
    "import ast\n",
    "import pickle\n",
    "from sklearn.feature_extraction.text import CountVectorizer\n",
    "from sklearn.metrics.pairwise import cosine_similarity\n",
    "\n",
    "# Load CSVs\n",
    "movies = pd.read_csv(\"tmdb_5000_movies.csv\")\n",
    "credits = pd.read_csv(\"tmdb_5000_credits.csv\")\n",
    "movies = movies.merge(credits, on=\"title\")\n",
    "\n",
    "# Clean functions\n",
    "def convert(obj):\n",
    "    L = []\n",
    "    for i in ast.literal_eval(obj):\n",
    "        L.append(i[\"name\"])\n",
    "    return L\n",
    "\n",
    "def get_director(obj):\n",
    "    L = []\n",
    "    for i in ast.literal_eval(obj):\n",
    "        if i[\"job\"] == \"Director\":\n",
    "            L.append(i[\"name\"])\n",
    "            break\n",
    "    return L\n",
    "\n",
    "# Apply preprocessing\n",
    "movies[\"genres\"] = movies[\"genres\"].apply(convert)\n",
    "movies[\"keywords\"] = movies[\"keywords\"].apply(convert)\n",
    "movies[\"cast\"] = movies[\"cast\"].apply(lambda x: [i[\"name\"] for i in ast.literal_eval(x)][:3])\n",
    "movies[\"crew\"] = movies[\"crew\"].apply(get_director)\n",
    "\n",
    "movies[\"overview\"] = movies[\"overview\"].fillna(\"\")\n",
    "movies[\"tags\"] = (\n",
    "    movies[\"overview\"] + \" \" +\n",
    "    movies[\"genres\"].astype(str) + \" \" +\n",
    "    movies[\"keywords\"].astype(str) + \" \" +\n",
    "    movies[\"cast\"].astype(str) + \" \" +\n",
    "    movies[\"crew\"].astype(str)\n",
    ").str.lower()\n",
    "\n",
    "# Vectorize\n",
    "cv = CountVectorizer(max_features=3000, stop_words=\"english\")\n",
    "vectors = cv.fit_transform(movies[\"tags\"]).toarray()\n",
    "\n",
    "# Cosine similarity\n",
    "similarity = cosine_similarity(vectors)\n",
    "\n",
    "# Save as pickle\n",
    "movies.reset_index(drop=True, inplace=True)\n",
    "pickle.dump(movies, open(\"movies.pkl\", \"wb\"))\n",
    "pickle.dump(similarity, open(\"similarity.pkl\", \"wb\"))\n"
   ]
  }
 ],
 "metadata": {
  "kernelspec": {
   "display_name": "Python 3 (ipykernel)",
   "language": "python",
   "name": "python3"
  },
  "language_info": {
   "codemirror_mode": {
    "name": "ipython",
    "version": 3
   },
   "file_extension": ".py",
   "mimetype": "text/x-python",
   "name": "python",
   "nbconvert_exporter": "python",
   "pygments_lexer": "ipython3",
   "version": "3.13.5"
  }
 },
 "nbformat": 4,
 "nbformat_minor": 5
}
